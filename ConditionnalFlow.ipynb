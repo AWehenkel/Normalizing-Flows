{
 "cells": [
  {
   "cell_type": "markdown",
   "metadata": {},
   "source": [
    "This notebook shows the construction of simple feed-forward normalizing flows. "
   ]
  },
  {
   "cell_type": "code",
   "execution_count": 1,
   "metadata": {},
   "outputs": [],
   "source": [
    "from lib.toy_data import inf_train_gen\n",
    "from lib.visualize_flow import plt_flow_2D\n",
    "import matplotlib.pyplot as plt\n",
    "from models import *\n",
    "from timeit import default_timer as timer\n",
    "import torch.nn as nn\n",
    "%matplotlib inline"
   ]
  },
  {
   "cell_type": "markdown",
   "metadata": {},
   "source": [
    "### Building your first normalizing flow\n",
    "Let's create our first normalizing flow: an affine (masked) autoregressive flow.\n",
    "Building such flow is very simple, you should first define the main building blocks of your flow. In this case these are the conditioner (autoregressive) and the normalizer (affine). Once this is done, you have to combine the conditioner and the normalizer into a flow step. You may do that multiple times if you want multiple steps in your flow, here we keep it simple and use only one step.\n",
    "Once you have a list of normalizing flow steps you may create a normalizing flow by combining the list with a base distribution (often an isotropic Normal)."
   ]
  },
  {
   "cell_type": "code",
   "execution_count": null,
   "metadata": {},
   "outputs": [],
   "source": [
    "conditioner = AutoregressiveConditioner(3, [250, 250, 250, 250], 2)\n",
    "normalizer = AffineNormalizer()\n",
    "flow_steps = [NormalizingFlowStep(conditioner, normalizer)]\n",
    "flow = FCNormalizingFlow(flow_steps, NormalLogDensity())\n",
    "simple_MLP = nn.Sequential(nn.Linear(2, 50), nn.ReLU(), \n",
    "                           nn.Linear(50, 150), nn.ReLU(),\n",
    "                           nn.Linear(150, 250), nn.ReLU(),\n",
    "                           nn.Linear(250, 150), nn.ReLU(),\n",
    "                           nn.Linear(150, 50), nn.ReLU(),\n",
    "                           nn.Linear(50, 1))\n",
    "\n",
    "all_param = list(simple_MLP.parameters()) + list(flow.parameters())\n",
    "opt = torch.optim.Adam(all_param, 1e-3, weight_decay=1e-5)\n"
   ]
  },
  {
   "cell_type": "markdown",
   "metadata": {},
   "source": [
    "That's it, congratulations you built your first normalizing flow! ;)"
   ]
  },
  {
   "cell_type": "markdown",
   "metadata": {},
   "source": [
    "Let's now check how we may train the flow on some data. We will create a function as we will train other flow architectures in the future, fortunately they all may be trained in the same way!"
   ]
  },
  {
   "cell_type": "code",
   "execution_count": null,
   "metadata": {},
   "outputs": [],
   "source": [
    "def train_and_plot(flow, opt, toy=\"4gaussians\", nb_epoch=1000):\n",
    "    time_tot = 0.\n",
    "    for epoch in range(nb_epoch):\n",
    "        loss_tot = 0\n",
    "        start = timer()\n",
    "        \n",
    "        # We get some data, (we place ourself in an ideal setting of infinite data).\n",
    "        cur_x = torch.tensor(inf_train_gen(toy, batch_size=100))\n",
    "        x_comp = simple_MLP(cur_x) + torch.randn(cur_x.shape[0], 1)/100.\n",
    "        x_transf = torch.cat((x_comp, cur_x), 1)\n",
    "        # We compute the log-likelihood as well as the base variable, check NormalizingFlow class for other possibilities\n",
    "        ll, z = flow.compute_ll(x_transf)\n",
    "        # Here we would like to maximize the log-likelihood of our model!\n",
    "        loss = -ll.mean()\n",
    "        opt.zero_grad()\n",
    "        loss.backward()\n",
    "        opt.step()\n",
    "\n",
    "        end = timer()\n",
    "        time_tot += end - start\n",
    "        if epoch % 10 == 0:\n",
    "            print(\"Approximate time left : {:2f}s - Loss last batch: {:4f}\".format(time_tot/(epoch + 1) * (nb_epoch - (epoch + 1)), loss.item()),\n",
    "                  end=\"\\r\", flush=True)\n",
    "\n",
    "    # Let's check the result!\n",
    "    fig = plt.figure(figsize=(18, 6))\n",
    "    with torch.no_grad():\n",
    "        ax = plt.subplot(1, 3, 1, aspect=\"equal\")\n",
    "        ax.set_title(\"Learned density\")\n",
    "        def compute_ll(x):\n",
    "            x = torch.cat((simple_MLP(x), x), 1)\n",
    "            ll, z = flow.compute_ll(x)\n",
    "            return ll, z\n",
    "        plt_flow_2D(compute_ll, ax, 100, range_xy=[[-4, 4], [-4, 4]])\n",
    "\n",
    "        ax = plt.subplot(1, 3, 2, aspect=\"equal\")\n",
    "        ax.set_title(\"Generated samples\")\n",
    "        fake_samples = flow.invert(torch.randn(1000, 3)).detach().numpy()[:, :]\n",
    "        ax.scatter(fake_samples[:, 1], fake_samples[:, 2], c=fake_samples[:, 0], marker=\".\")\n",
    "\n",
    "        ax = plt.subplot(1, 3, 3, aspect=\"equal\")\n",
    "        ax.set_title(\"Real samples\")\n",
    "        samples = inf_train_gen(toy, batch_size=1000)\n",
    "        ax.scatter(samples[:, 0], samples[:, 1], alpha=1., marker=\".\")\n"
   ]
  },
  {
   "cell_type": "markdown",
   "metadata": {},
   "source": [
    "And now let us train this one-step affine autoregressive flow! "
   ]
  },
  {
   "cell_type": "markdown",
   "metadata": {
    "scrolled": false
   },
   "source": [
    "###### for i in range(10000):\n",
    "    plt.figure()\n",
    "    train_and_plot(flow, opt, nb_epoch=1000)\n",
    "    plt.show()"
   ]
  },
  {
   "cell_type": "markdown",
   "metadata": {},
   "source": [
    "Mmmh not great! "
   ]
  },
  {
   "cell_type": "markdown",
   "metadata": {},
   "source": [
    "One step does not seem to be enough, let's build a 5-steps affine autoregressive flow. For that you may just reproduce the example above with multiple steps but you can just use one of our factories as follows:"
   ]
  },
  {
   "cell_type": "code",
   "execution_count": null,
   "metadata": {},
   "outputs": [],
   "source": [
    "conditioner_type = AutoregressiveConditioner\n",
    "conditioner_args = {\"in_size\": 3, \"hidden\": [50, 50, 50], \"out_size\": 2}\n",
    "\n",
    "normalizer_type = AffineNormalizer\n",
    "normalizer_args = {}\n",
    "\n",
    "nb_flow = 3\n",
    "flow = buildFCNormalizingFlow(nb_flow, conditioner_type, conditioner_args, normalizer_type, normalizer_args)\n",
    "simple_MLP = nn.Sequential(nn.Linear(2, 50), nn.ReLU(), \n",
    "                           nn.Linear(50, 50), nn.ReLU(),\n",
    "                           nn.Linear(50, 50), nn.ReLU(),\n",
    "                           nn.Linear(50, 1))\n",
    "\n",
    "all_param = list(simple_MLP.parameters()) + list(flow.parameters())\n",
    "opt = torch.optim.Adam(all_param, 1e-3, weight_decay=1e-5)\n"
   ]
  },
  {
   "cell_type": "markdown",
   "metadata": {},
   "source": [
    "The flow here is made of 5 steps, each of them being composed of an autoregressive conditioner and an affine normalizer (also denoted a transformer in the flow litterature). The parameters are not shared between flow steps!"
   ]
  },
  {
   "cell_type": "code",
   "execution_count": null,
   "metadata": {},
   "outputs": [],
   "source": [
    "train_and_plot(flow, opt, nb_epoch=100)"
   ]
  },
  {
   "cell_type": "markdown",
   "metadata": {},
   "source": [
    "These results are already better but modeling multi-modal distributions with affine normalizing flows is known to be impossible. A possible solution is to replace the affine transformations by monotonic ones, this has been proven to lead to universal density approximators. In the following example we use unconstrained monotonic neural networks to parameterize the monotonic transformation and combine it with an autoregressive conditioner."
   ]
  },
  {
   "cell_type": "code",
   "execution_count": 70,
   "metadata": {},
   "outputs": [],
   "source": [
    "conditioner = AutoregressiveConditioner(3, [100, 100, 100], 10)\n",
    "normalizer = MonotonicNormalizer(integrand_net=[50, 50, 50], cond_size=10, nb_steps=50, solver=\"CCParallel\")\n",
    "flow_steps = [NormalizingFlowStep(conditioner, normalizer)]\n",
    "flow = FCNormalizingFlow(flow_steps, NormalLogDensity())\n",
    "\n",
    "simple_MLP = nn.Sequential(nn.Linear(2, 50), nn.ReLU(), \n",
    "                           nn.Linear(50, 50), nn.ReLU(),\n",
    "                           nn.Linear(50, 50), nn.ReLU(),\n",
    "                           nn.Linear(50, 1))\n",
    "\n",
    "all_param = list(simple_MLP.parameters()) + list(flow.parameters())\n",
    "opt = torch.optim.Adam(all_param, 1e-3, weight_decay=1e-5)"
   ]
  },
  {
   "cell_type": "code",
   "execution_count": 71,
   "metadata": {},
   "outputs": [
    {
     "ename": "NameError",
     "evalue": "name 'train_and_plot' is not defined",
     "output_type": "error",
     "traceback": [
      "\u001b[0;31m---------------------------------------------------------------------------\u001b[0m",
      "\u001b[0;31mNameError\u001b[0m                                 Traceback (most recent call last)",
      "\u001b[0;32m<ipython-input-71-586d08181628>\u001b[0m in \u001b[0;36m<module>\u001b[0;34m\u001b[0m\n\u001b[0;32m----> 1\u001b[0;31m \u001b[0mtrain_and_plot\u001b[0m\u001b[0;34m(\u001b[0m\u001b[0mflow\u001b[0m\u001b[0;34m,\u001b[0m \u001b[0mopt\u001b[0m\u001b[0;34m,\u001b[0m \u001b[0mnb_epoch\u001b[0m\u001b[0;34m=\u001b[0m\u001b[0;36m100\u001b[0m\u001b[0;34m)\u001b[0m\u001b[0;34m\u001b[0m\u001b[0;34m\u001b[0m\u001b[0m\n\u001b[0m",
      "\u001b[0;31mNameError\u001b[0m: name 'train_and_plot' is not defined"
     ]
    }
   ],
   "source": [
    "train_and_plot(flow, opt, nb_epoch=100)"
   ]
  },
  {
   "cell_type": "markdown",
   "metadata": {},
   "source": [
    "We have only shown how to use autoregressive conditioners, however you may find other famous conditioners in the library such as coupling conditioners or graphical conditioners."
   ]
  },
  {
   "cell_type": "code",
   "execution_count": 102,
   "metadata": {},
   "outputs": [
    {
     "data": {
      "text/plain": [
       "torch.Size([1, 1, 7, 7])"
      ]
     },
     "execution_count": 102,
     "metadata": {},
     "output_type": "execute_result"
    }
   ],
   "source": [
    "conv1 = nn.Conv2d(1, 5, 3, 1, 1)\n",
    "x = conv1(torch.randn(1, 1, 28, 28))\n",
    "conv2 = nn.Conv2d(5, 5, 3, 1, 1)\n",
    "x = conv2(x)\n",
    "pool2 = nn.MaxPool2d(2)\n",
    "x = pool2(x)\n",
    "\n",
    "conv3 = nn.Conv2d(5, 1, 3, 1, 1)\n",
    "x = conv3(x)\n",
    "pool3 = nn.MaxPool2d(2)\n",
    "x = pool3(x)\n",
    "x.shape"
   ]
  },
  {
   "cell_type": "code",
   "execution_count": 206,
   "metadata": {},
   "outputs": [],
   "source": [
    "class MNISTNF(nn.Module):\n",
    "    def __init__(self):\n",
    "        super(MNISTNF, self).__init__()\n",
    "        \n",
    "        self.cond1 = nn.Conv2d(1, 5, 3, 1, 1)   \n",
    "        conditioner = AutoregressiveConditioner(1, [250, 250, 250], 2, 5)\n",
    "        normalizer = AffineNormalizer()\n",
    "        flow_steps = [NormalizingFlowStep(conditioner, normalizer)]\n",
    "        self.flow_1 = FCNormalizingFlow(flow_steps, NormalLogDensity()) # This will be 1D conditionning (probably not good)\n",
    "        \n",
    "        conv2 = nn.Conv2d(5, 5, 3, 1, 1)\n",
    "        pool2 = nn.MaxPool2d(2)\n",
    "        self.cond2 = nn.Sequential(conv2, pool2)\n",
    "        conditioner = AutoregressiveConditioner(5, [250, 250, 250], 2, 5)\n",
    "        normalizer = AffineNormalizer()\n",
    "        flow_steps = [NormalizingFlowStep(conditioner, normalizer)]\n",
    "        self.flow_2 = FCNormalizingFlow(flow_steps, NormalLogDensity())\n",
    "        \n",
    "        conv3 = nn.Conv2d(5, 1, 3, 1, 1)\n",
    "        pool3 = nn.MaxPool2d(2)\n",
    "        self.cond3 = nn.Sequential(conv3, pool3)\n",
    "        conditioner = AutoregressiveConditioner(5, [250, 250, 250], 2, 1)\n",
    "        normalizer = AffineNormalizer()\n",
    "        flow_steps = [NormalizingFlowStep(conditioner, normalizer)]\n",
    "        self.flow_3 = FCNormalizingFlow(flow_steps, NormalLogDensity())\n",
    "        \n",
    "        fc1 = nn.Linear(49, 150)\n",
    "        fc2 = nn.Linear(150, 150)\n",
    "        fc3 = nn.Linear(150, 50)\n",
    "        fc4 = nn.Linear(50, 10)\n",
    "        self.cond4 = nn.Sequential(fc1, nn.ReLU(), fc2, nn.ReLU(), fc3, nn.ReLU(), fc4)\n",
    "        conditioner = AutoregressiveConditioner(49, [250, 250, 250], 2, 10)\n",
    "        normalizer = AffineNormalizer()\n",
    "        flow_steps = [NormalizingFlowStep(conditioner, normalizer)]\n",
    "        self.flow_4 = FCNormalizingFlow(flow_steps, NormalLogDensity())\n",
    "        \n",
    "        conditioner = AutoregressiveConditioner(10, [250, 250, 250], 2)\n",
    "        normalizer = AffineNormalizer()\n",
    "        flow_steps = [NormalizingFlowStep(conditioner, normalizer)]\n",
    "        self.flow_5 = FCNormalizingFlow(flow_steps, NormalLogDensity())\n",
    "        \n",
    "\n",
    "    def forward(self, x, context=None):\n",
    "        b_size = x.shape[0]\n",
    "        \n",
    "        cond1 = self.cond1(x) \n",
    "        cond1 += torch.randn(cond1.shape)/1000.\n",
    "        cond1_reshaped = cond1.permute(0, 2, 3, 1).contiguous().view(-1, 5)\n",
    "        x1 = x.permute(0, 2, 3, 1).contiguous().view(-1, 1) #[b_size, 1, 28, 28] -> [b_size * 28 * 28, 1]\n",
    "        log_prob1, z1 = self.flow_1.compute_ll(x1, context=cond1_reshaped)\n",
    "        log_prob1 = log_prob1.view(b_size, -1).sum(1)#[b_size, 1 * 28 * 28] -> [b_size]\n",
    "        \n",
    "        cond2 = self.cond2(cond1)#[b_size, 1, 28, 28] -> [b_size, 5, 14, 14]\n",
    "        cond2 += torch.randn(cond2.shape)/1000.\n",
    "        cond2_reshaped = cond2.view(cond2.shape[0], -1).unsqueeze(2).expand(-1, -1, 2).contiguous().view(cond2.shape[0], -1, 1, cond2.shape[3]*2).expand(-1, -1, 2, -1).permute(0, 2, 3, 1).contiguous().view(-1, 5)\n",
    "            #[b_size, 1, 14, 14] -> [b_size, 5, 14, 14] -> [b_size, 5, 28, 28] -> [b_size * 28 * 28, 5]\n",
    "        x2 = cond1.permute(0, 2, 3, 1).contiguous().view(-1, 5) #[b_size, 5, 28, 28] -> [b_size * 28 * 28, 5]\n",
    "        log_prob2, z2 = self.flow_2.compute_ll(x2, cond2_reshaped)\n",
    "        log_prob2 = log_prob2.view(b_size, -1).sum(1) #[b_size * 28 * 28, 5] -> [b_size,  28 * 28 * 5] -> [b_size]\n",
    "        \n",
    "        cond3 = self.cond3(cond2) #[b_size, 5, 14, 14] -> [b_size, 1, 7, 7]\n",
    "        cond3 += torch.randn(cond3.shape)/1000.\n",
    "        cond3_reshaped = cond3.view(cond3.shape[0], -1).unsqueeze(2).expand(-1, -1, 2).contiguous().view(cond3.shape[0], -1, 1, cond3.shape[3]*2).expand(-1, -1, 2, -1).permute(0, 2, 3, 1).contiguous().view(-1, 1)\n",
    "            #[b_size, 1, 7, 7] -> ... -> [b_size, 14 * 14 * 1]\n",
    "        x3 = cond2.permute(0, 2, 3, 1).contiguous().view(-1, 5) #[b_size, 5, 14, 14] -> [b_size * 14 * 14, 5]\n",
    "        log_prob3, z3 = self.flow_3.compute_ll(x3, cond3_reshaped) \n",
    "        log_prob3 = log_prob3.view(b_size, -1).sum(1) #[b_size * 14 * 14, 5] -> ... -> [b_size]\n",
    "        \n",
    "        x4 = cond3.view(-1, 49)\n",
    "        cond4 = self.cond4(x4)\n",
    "        cond4 += torch.randn(cond4.shape)/1000.\n",
    "        log_prob4, z4 = self.flow_4.compute_ll(x4, cond4)\n",
    "        log_prob4 = log_prob4.view(b_size, -1).sum(1)\n",
    "        \n",
    "        x5 = cond4\n",
    "        log_prob5, z5 = self.flow_5.compute_ll(x5)\n",
    "        log_prob5 = log_prob5.view(b_size, -1).sum(1)\n",
    "                \n",
    "            \n",
    "        z_tot = torch.cat((z1.view(b_size, -1), z2.view(b_size, -1), z3.view(b_size, -1), z4.view(b_size, -1),\n",
    "                           z5.view(b_size, -1)), 1)\n",
    "        log_prob = log_prob1 + log_prob2 + log_prob3 + log_prob4 + log_prob5\n",
    "        return log_prob, z_tot\n",
    "                          \n",
    "    def invert(self, z_tot):\n",
    "        b_size = z_tot.shape[0]\n",
    "        \n",
    "        z5 = z_tot[:, -10:]\n",
    "        x5 = self.flow_5.invert(z5)\n",
    "\n",
    "        z4 = z_tot[:, -59:-10]\n",
    "        cond4 = x5        \n",
    "        x4 = self.flow_4.invert(z4, cond4)\n",
    "\n",
    "        z3 = z_tot[:, -59-(5*14*14):-59]\n",
    "        cond3_reshaped = x4.view(b_size, -1).unsqueeze(2).expand(-1, -1, 2).contiguous().view(x4.shape[0], -1, 1, 14).expand(-1, -1, 2, -1).contiguous().view(-1, 1)\n",
    "        x3 = self.flow_3.invert(z3.reshape(cond3_reshaped.shape[0], 5), cond3_reshaped)\n",
    "\n",
    "        z2 = z_tot[:, -59-(5*14*14)-(5*28*28):-59-(5*14*14)]\n",
    "        cond2 = x3.view(b_size, 14, 14, 5).permute(0, 3, 1, 2)\n",
    "        cond2_reshaped = cond2.reshape(cond2.shape[0], -1).unsqueeze(2).expand(-1, -1, 2).reshape(cond2.shape[0], -1, 1, cond2.shape[3]*2).expand(-1, -1, 2, -1).permute(0, 2, 3, 1).reshape(-1, 5)\n",
    "        x2 = self.flow_2.invert(z2.reshape(cond2_reshaped.shape[0], 5), cond2_reshaped)\n",
    "\n",
    "        z1 = z_tot[:, :-59-(5*14*14)-(5*28*28)]\n",
    "        cond1 = x2.view(b_size, 28, 28, 5).permute(0, 3, 1, 2)\n",
    "        cond1_reshaped = cond1.permute(0, 2, 3, 1).contiguous().view(-1, 5)\n",
    "        x1 = self.flow_1.invert(z1.reshape(cond1_reshaped.shape[0], 1), context=cond1_reshaped)\n",
    "        x = x1.view(b_size, 28, 28, 1).permute(0, 3, 1, 2)\n",
    "        \n",
    "        return x\n",
    "    \n",
    "    def sample(self, nb_samples=1):\n",
    "        x5 = self.flow_5.invert(torch.randn(nb_samples, 10))\n",
    "\n",
    "        cond4 = x5        \n",
    "        x4 = self.flow_4.invert(torch.randn(nb_samples, 49), cond4)\n",
    "\n",
    "        cond3_reshaped = x4.view(nb_samples, -1).unsqueeze(2).expand(-1, -1, 2).contiguous().view(x4.shape[0], -1, 1, 14).expand(-1, -1, 2, -1).contiguous().view(-1, 1)\n",
    "        x3 = self.flow_3.invert(torch.randn(cond3_reshaped.shape[0], 5), cond3_reshaped)\n",
    "\n",
    "        cond2 = x3.view(nb_samples, 14, 14, 5).permute(0, 3, 1, 2)\n",
    "        cond2_reshaped = cond2.reshape(cond2.shape[0], -1).unsqueeze(2).expand(-1, -1, 2).reshape(cond2.shape[0], -1, 1, cond2.shape[3]*2).expand(-1, -1, 2, -1).permute(0, 2, 3, 1).reshape(-1, 5)\n",
    "        x2 = self.flow_2.invert(torch.randn(cond2_reshaped.shape[0], 5), cond2_reshaped)\n",
    "\n",
    "        cond1 = x2.view(nb_samples, 28, 28, 5).permute(0, 3, 1, 2)\n",
    "        cond1_reshaped = cond1.permute(0, 2, 3, 1).contiguous().view(-1, 5)\n",
    "        x1 = self.flow_1.invert(torch.randn(cond1_reshaped.shape[0], 1), context=cond1_reshaped)\n",
    "        x = x1.view(nb_samples, 28, 28, 1).permute(0, 3, 1, 2)\n",
    "        \n",
    "        return x\n",
    "        \n",
    "        "
   ]
  },
  {
   "cell_type": "code",
   "execution_count": 207,
   "metadata": {},
   "outputs": [],
   "source": [
    "import torchvision"
   ]
  },
  {
   "cell_type": "code",
   "execution_count": 208,
   "metadata": {},
   "outputs": [],
   "source": [
    "batch_size_train = 100\n",
    "batch_size_test = 100\n",
    "n_epochs = 100\n",
    "log_interval = 10"
   ]
  },
  {
   "cell_type": "code",
   "execution_count": 209,
   "metadata": {},
   "outputs": [],
   "source": [
    "train_loader = torch.utils.data.DataLoader(\n",
    "  torchvision.datasets.MNIST('', train=True, download=True,\n",
    "                             transform=torchvision.transforms.Compose([\n",
    "                               torchvision.transforms.ToTensor(),\n",
    "                               torchvision.transforms.Normalize(\n",
    "                                 (0.1307,), (0.3081,))\n",
    "                             ])),\n",
    "  batch_size=batch_size_train, shuffle=True)\n",
    "\n",
    "test_loader = torch.utils.data.DataLoader(\n",
    "  torchvision.datasets.MNIST('', train=False, download=True,\n",
    "                             transform=torchvision.transforms.Compose([\n",
    "                               torchvision.transforms.ToTensor(),\n",
    "                               torchvision.transforms.Normalize(\n",
    "                                 (0.1307,), (0.3081,))\n",
    "                             ])),\n",
    "  batch_size=batch_size_test, shuffle=True)"
   ]
  },
  {
   "cell_type": "code",
   "execution_count": 210,
   "metadata": {},
   "outputs": [],
   "source": [
    "train_losses = []\n",
    "train_counter = []\n",
    "test_losses = []\n",
    "test_counter = [i*len(train_loader.dataset) for i in range(n_epochs + 1)]"
   ]
  },
  {
   "cell_type": "code",
   "execution_count": 211,
   "metadata": {},
   "outputs": [],
   "source": [
    "net = MNISTNF()\n",
    "opt = torch.optim.Adam(net.parameters(), 1e-3, weight_decay=1e-5)\n"
   ]
  },
  {
   "cell_type": "code",
   "execution_count": 212,
   "metadata": {},
   "outputs": [],
   "source": [
    "def train(epoch):\n",
    "    net.train()\n",
    "    for batch_idx, (data, target) in enumerate(train_loader):\n",
    "        opt.zero_grad()\n",
    "        ll, _ = net(data)\n",
    "        loss = -ll.mean()\n",
    "        loss.backward()\n",
    "        opt.step()\n",
    "        \n",
    "        if batch_idx % log_interval == 0:\n",
    "            plt.figure()\n",
    "            plt.imshow(net.sample().view(28, 28).detach().numpy())\n",
    "            plt.show()\n",
    "            print('Train Epoch: {} [{}/{} ({:.0f}%)]\\tLoss: {:.6f}'.format(\n",
    "                epoch, batch_idx * len(data), len(train_loader.dataset),\n",
    "                100. * batch_idx / len(train_loader), loss.item()))\n",
    "            train_losses.append(loss.item())\n",
    "            train_counter.append(\n",
    "            (batch_idx*64) + ((epoch-1)*len(train_loader.dataset)))\n",
    "            torch.save(net.state_dict(), 'model.pth')\n",
    "            torch.save(opt.state_dict(), 'optimizer.pth')"
   ]
  },
  {
   "cell_type": "code",
   "execution_count": 213,
   "metadata": {},
   "outputs": [],
   "source": [
    "def test():\n",
    "    net.eval()\n",
    "    test_loss = 0\n",
    "    correct = 0\n",
    "    with torch.no_grad():\n",
    "        for data, target in test_loader:\n",
    "            output, _ = net(data)\n",
    "            loss = output.mean()\n",
    "            test_loss += loss.item()\n",
    "        test_loss /= len(test_loader.dataset)\n",
    "        test_losses.append(test_loss)\n",
    "        print('\\nTest set: Avg. loss: {:.4f}\\n'.format(test_loss))"
   ]
  },
  {
   "cell_type": "code",
   "execution_count": null,
   "metadata": {
    "scrolled": true
   },
   "outputs": [
    {
     "name": "stdout",
     "output_type": "stream",
     "text": [
      "\n",
      "Test set: Avg. loss: -71.9050\n",
      "\n"
     ]
    },
    {
     "data": {
      "image/png": "[encoded data removed]",
      "text/plain": [
       "<Figure size 432x288 with 1 Axes>"
      ]
     },
     "metadata": {
      "needs_background": "light"
     },
     "output_type": "display_data"
    },
    {
     "name": "stdout",
     "output_type": "stream",
     "text": [
      "Train Epoch: 1 [0/60000 (0%)]\tLoss: 7189.866211\n"
     ]
    },
    {
     "data": {
      "image/png": "[encoded data removed]",
      "text/plain": [
       "<Figure size 432x288 with 1 Axes>"
      ]
     },
     "metadata": {
      "needs_background": "light"
     },
     "output_type": "display_data"
    },
    {
     "name": "stdout",
     "output_type": "stream",
     "text": [
      "Train Epoch: 1 [1000/60000 (2%)]\tLoss: 6082.218262\n"
     ]
    },
    {
     "data": {
      "image/png": "[encoded data removed]",
      "text/plain": [
       "<Figure size 432x288 with 1 Axes>"
      ]
     },
     "metadata": {
      "needs_background": "light"
     },
     "output_type": "display_data"
    },
    {
     "name": "stdout",
     "output_type": "stream",
     "text": [
      "Train Epoch: 1 [2000/60000 (3%)]\tLoss: 4329.401855\n"
     ]
    },
    {
     "data": {
      "image/png": "[encoded data removed]",
      "text/plain": [
       "<Figure size 432x288 with 1 Axes>"
      ]
     },
     "metadata": {
      "needs_background": "light"
     },
     "output_type": "display_data"
    },
    {
     "name": "stdout",
     "output_type": "stream",
     "text": [
      "Train Epoch: 1 [3000/60000 (5%)]\tLoss: 2484.430908\n"
     ]
    },
    {
     "data": {
      "image/png": "[encoded data removed]",
      "text/plain": [
       "<Figure size 432x288 with 1 Axes>"
      ]
     },
     "metadata": {
      "needs_background": "light"
     },
     "output_type": "display_data"
    },
    {
     "name": "stdout",
     "output_type": "stream",
     "text": [
      "Train Epoch: 1 [4000/60000 (7%)]\tLoss: 928.101746\n"
     ]
    },
    {
     "data": {
      "image/png": "[encoded data removed]",
      "text/plain": [
       "<Figure size 432x288 with 1 Axes>"
      ]
     },
     "metadata": {
      "needs_background": "light"
     },
     "output_type": "display_data"
    },
    {
     "name": "stdout",
     "output_type": "stream",
     "text": [
      "Train Epoch: 1 [5000/60000 (8%)]\tLoss: -628.521973\n"
     ]
    },
    {
     "data": {
      "image/png": "[encoded data removed]",
      "text/plain": [
       "<Figure size 432x288 with 1 Axes>"
      ]
     },
     "metadata": {
      "needs_background": "light"
     },
     "output_type": "display_data"
    },
    {
     "name": "stdout",
     "output_type": "stream",
     "text": [
      "Train Epoch: 1 [6000/60000 (10%)]\tLoss: -2111.396973\n"
     ]
    },
    {
     "data": {
      "image/png": "[encoded data removed]",
      "text/plain": [
       "<Figure size 432x288 with 1 Axes>"
      ]
     },
     "metadata": {
      "needs_background": "light"
     },
     "output_type": "display_data"
    },
    {
     "name": "stdout",
     "output_type": "stream",
     "text": [
      "Train Epoch: 1 [7000/60000 (12%)]\tLoss: -3310.187500\n"
     ]
    },
    {
     "data": {
      "image/png": "[encoded data removed]",
      "text/plain": [
       "<Figure size 432x288 with 1 Axes>"
      ]
     },
     "metadata": {
      "needs_background": "light"
     },
     "output_type": "display_data"
    },
    {
     "name": "stdout",
     "output_type": "stream",
     "text": [
      "Train Epoch: 1 [8000/60000 (13%)]\tLoss: -4040.941650\n"
     ]
    },
    {
     "data": {
      "image/png": "[encoded data removed]",
      "text/plain": [
       "<Figure size 432x288 with 1 Axes>"
      ]
     },
     "metadata": {
      "needs_background": "light"
     },
     "output_type": "display_data"
    },
    {
     "name": "stdout",
     "output_type": "stream",
     "text": [
      "Train Epoch: 1 [9000/60000 (15%)]\tLoss: -4864.085449\n"
     ]
    },
    {
     "data": {
      "image/png": "[encoded data removed]",
      "text/plain": [
       "<Figure size 432x288 with 1 Axes>"
      ]
     },
     "metadata": {
      "needs_background": "light"
     },
     "output_type": "display_data"
    },
    {
     "name": "stdout",
     "output_type": "stream",
     "text": [
      "Train Epoch: 1 [10000/60000 (17%)]\tLoss: -5527.082031\n"
     ]
    }
   ],
   "source": [
    "test()\n",
    "for epoch in range(1, n_epochs + 1):\n",
    "    train(epoch)\n",
    "    test()"
   ]
  },
  {
   "cell_type": "code",
   "execution_count": null,
   "metadata": {},
   "outputs": [],
   "source": []
  }
 ],
 "metadata": {
  "kernelspec": {
   "display_name": "Python 3",
   "language": "python",
   "name": "python3"
  },
  "language_info": {
   "codemirror_mode": {
    "name": "ipython",
    "version": 3
   },
   "file_extension": ".py",
   "mimetype": "text/x-python",
   "name": "python",
   "nbconvert_exporter": "python",
   "pygments_lexer": "ipython3",
   "version": "3.8.3"
  }
 },
 "nbformat": 4,
 "nbformat_minor": 4
}
